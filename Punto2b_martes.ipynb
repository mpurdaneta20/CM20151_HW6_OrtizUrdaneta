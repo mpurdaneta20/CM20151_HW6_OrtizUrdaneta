{
 "metadata": {
  "name": "",
  "signature": "sha256:7da2676900f30cd8d731a9560b3479b0ad58ec0c24235517489692ba95a0bac6"
 },
 "nbformat": 3,
 "nbformat_minor": 0,
 "worksheets": [
  {
   "cells": [
    {
     "cell_type": "code",
     "collapsed": false,
     "input": [
      "%pylab inline\n",
      "import numpy as np\n",
      "from __future__ import division \n",
      "from scipy import meshgrid\n",
      "import matplotlib.pyplot as plt\n",
      "\n",
      "#Se tienen los siguientes datos los cuales se mantendran constantes a lo largo del metodo\n",
      "p=1000  #(ro)  densidad\n",
      "cp=4181 #calor especifico agua\n",
      "D=0.1  # coeficiente de dispersion \n",
      "d_H=0.1 #(delta_H)  calor de reaccion\n",
      "Ra=1  #radio maximo del tubo\n",
      "ra=0.5 #Radio tubo interno\n",
      "L=10 #longitud total del tubo. Rango de [0,L]\n",
      "E=10 #modulo de Young\n",
      "C0=1 #concentracion inicial\n",
      "T0=283 #Temp inicial en Kelvin\n",
      "lam=0.5  #Lambda\n",
      "vmax=0.5 #velocidad m\u00e1xima\n",
      "h = 1   # h de funci\u00f3n de intercambio termico en la pared\n",
      "Tw= 10\n",
      "\n",
      "Cin=1\n",
      "Tin=20"
     ],
     "language": "python",
     "metadata": {},
     "outputs": [
      {
       "output_type": "stream",
       "stream": "stdout",
       "text": [
        "Populating the interactive namespace from numpy and matplotlib\n"
       ]
      }
     ],
     "prompt_number": 30
    },
    {
     "cell_type": "code",
     "collapsed": false,
     "input": [
      "#Arrelgos para y y z\n",
      "n_points=10\n",
      "r = np.linspace(0.0,Ra,n_points)\n",
      "z = np.linspace(0.0,L,n_points)\n",
      "\n",
      "# Funci\u00f3n r(c,T) \n",
      "k0 = 10 #constante cin\u00e9tica \n",
      "E = 10 \n",
      "R = 1 #consante de los gases\n",
      "c=1\n",
      "T=1 \n",
      "# Velocidad- radio\n",
      "def func_r(c,T):\n",
      "    rcT=k0*exp(-E/(R*T))*c**2\n",
      "    return rcT\n",
      "\n",
      "#Funci\u00f3n de Velocidad superficial del fluido\n",
      "def v(ra):\n",
      "    vr=vmax*(1-(ra/Ra)**2)\n",
      "    return vr\n",
      "\n",
      "#print r\n",
      "#print z"
     ],
     "language": "python",
     "metadata": {},
     "outputs": [],
     "prompt_number": 31
    },
    {
     "cell_type": "code",
     "collapsed": false,
     "input": [
      "#Funciones de concentraci\u00f3n (U1)(zxr) y Temperatura (U2)(zxr)\n",
      "U1 = ones((n_points, n_points))\n",
      "U2 = ones((n_points, n_points))\n",
      "\n",
      "#Condiciones de Frontera\n",
      "# Simetria Radial sin transf. de Masa r=0\n",
      "U1[0,:] = U1[1,:]\n",
      "U2[0,:] = U2[1,:]\n",
      "\n",
      "#Simetria Radial sin transf. de Masa r=R\n",
      "U1[-1,:] = U1[-2,:]\n",
      "\n",
      "# Condici\u00f3n de Intercambio Termico en la pared  r=R\n",
      "U2[-1,:] = (h/lam)*(Tw-U2[-1,:])+U2[-2,:]\n",
      "\n",
      "\n",
      "# Concentracion y Temperatura constantes al inicio del tubo, en z=0\n",
      "U1[:,0] = Cin\n",
      "U2[:,0] = Tin\n",
      "\n",
      "# Difusion cero a la salida, en z=L //C(L,r)=C(L-1,r) // T(L,r)=T(L-1,r)\n",
      "U1[:,-1] = U1[:,-2]\n",
      "U2[:,-1] = U2[:,-2]\n",
      "\n",
      "#Delta r y Delta z\n",
      "delta_r = r[1]-r[0]\n",
      "delta_z = z[1]-z[0]\n",
      "delta_t = 0.0005\n",
      "\n",
      "n_time = 2\n",
      "U1_2 = np.ones((n_points,n_points)) ##\n",
      "U2_2 = np.ones((n_points,n_points))\n",
      "\n"
     ],
     "language": "python",
     "metadata": {},
     "outputs": [],
     "prompt_number": 44
    },
    {
     "cell_type": "code",
     "collapsed": false,
     "input": [
      "print U1\n",
      "print shape(U1)\n",
      "print U2\n",
      "print shape(U2)"
     ],
     "language": "python",
     "metadata": {},
     "outputs": [
      {
       "output_type": "stream",
       "stream": "stdout",
       "text": [
        "[[ 1.  1.  1.  1.  1.  1.  1.  1.  1.  1.]\n",
        " [ 1.  1.  1.  1.  1.  1.  1.  1.  1.  1.]\n",
        " [ 1.  1.  1.  1.  1.  1.  1.  1.  1.  1.]\n",
        " [ 1.  1.  1.  1.  1.  1.  1.  1.  1.  1.]\n",
        " [ 1.  1.  1.  1.  1.  1.  1.  1.  1.  1.]\n",
        " [ 1.  1.  1.  1.  1.  1.  1.  1.  1.  1.]\n",
        " [ 1.  1.  1.  1.  1.  1.  1.  1.  1.  1.]\n",
        " [ 1.  1.  1.  1.  1.  1.  1.  1.  1.  1.]\n",
        " [ 1.  1.  1.  1.  1.  1.  1.  1.  1.  1.]\n",
        " [ 1.  1.  1.  1.  1.  1.  1.  1.  1.  1.]]\n",
        "(10, 10)\n",
        "[[ 20.   1.   1.   1.   1.   1.   1.   1.   1.   1.]\n",
        " [ 20.   1.   1.   1.   1.   1.   1.   1.   1.   1.]\n",
        " [ 20.   1.   1.   1.   1.   1.   1.   1.   1.   1.]\n",
        " [ 20.   1.   1.   1.   1.   1.   1.   1.   1.   1.]\n",
        " [ 20.   1.   1.   1.   1.   1.   1.   1.   1.   1.]\n",
        " [ 20.   1.   1.   1.   1.   1.   1.   1.   1.   1.]\n",
        " [ 20.   1.   1.   1.   1.   1.   1.   1.   1.   1.]\n",
        " [ 20.   1.   1.   1.   1.   1.   1.   1.   1.   1.]\n",
        " [ 20.   1.   1.   1.   1.   1.   1.   1.   1.   1.]\n",
        " [ 20.  19.  19.  19.  19.  19.  19.  19.  19.  19.]]\n",
        "(10, 10)\n"
       ]
      }
     ],
     "prompt_number": 45
    },
    {
     "cell_type": "code",
     "collapsed": false,
     "input": [
      "###(plot ICs)\n",
      "fig = plt.figure()\n",
      "#ax = fig.gca(projection='3d')\n",
      "z,r = np.meshgrid(z,r)\n",
      "h = plt.contourf(z,r,U1)\n",
      "\n"
     ],
     "language": "python",
     "metadata": {},
     "outputs": [
      {
       "metadata": {},
       "output_type": "display_data",
       "png": "[encoded data removed]",
       "text": [
        "<matplotlib.figure.Figure at 0xb0b575ac>"
       ]
      }
     ],
     "prompt_number": 46
    },
    {
     "cell_type": "code",
     "collapsed": false,
     "input": [
      "###(plot ICs)\n",
      "fig = plt.figure()\n",
      "#ax = fig.gca(projection='3d')\n",
      "zz,rr = np.meshgrid(z,r)\n",
      "graf2 = plt.contourf(zz,rr,U2)"
     ],
     "language": "python",
     "metadata": {},
     "outputs": [
      {
       "metadata": {},
       "output_type": "display_data",
       "png": "[encoded data removed]",
       "text": [
        "<matplotlib.figure.Figure at 0xb0cafcec>"
       ]
      }
     ],
     "prompt_number": 33
    },
    {
     "cell_type": "code",
     "collapsed": false,
     "input": [
      "#constantes para simplificar\n",
      "alpha_1=((delta_t/delta_z))\n",
      "alpha_2=(D*(delta_t/(delta_z**2)))\n",
      "alpha_3=(D*(delta_t/(delta_r**2)))\n",
      "alpha_4=(D*(delta_t/(ra*(delta_r)))) #verificar el ra\n",
      "\n",
      "betha_1=((delta_t/delta_z))\n",
      "betha_2=((delta_t*lam)/(p*cp*(delta_z)**2))\n",
      "betha_3=((delta_t*lam)/(p*cp*(delta_r)**2))\n",
      "betha_4=((delta_t*lam)/(p*cp*ra))#verificar este ra\n",
      "betha_5=((d_H*delta_t)/(p*cp*(delta_r**2)))"
     ],
     "language": "python",
     "metadata": {},
     "outputs": [],
     "prompt_number": 47
    },
    {
     "cell_type": "code",
     "collapsed": false,
     "input": [
      "for n in range(n_time+1): ##loop across number of time steps\n",
      "    U1_2 = U1.copy()\n",
      "    U2_2 = U2.copy()\n",
      "    \n",
      "    #Se despej\u00f3 para t+1 haciendo la derivada -backwards-ver doc anexo con las ecuaciones\n",
      "    \n",
      "    U1[1:-1,1:-1] = alpha_1*((-1*v([1:-1,1:-1]))*(U1_2[1:-1,1:-1]-U1_2[1:-1,0:-2]))+(alpha_2*((U1_2[1:-1,0:-2])-(2*(U1_2[1:-1,1:-1]))+(U1_2[1:-1,0:-2])))+\\\n",
      "    (alpha_3*((U1_2[2:,1:-1])-(2*(U1_2[1:-1,1:-1])))+(U1_2[0:-2,1:-1]))+(alpha_4*((U1[1:-1,1:-1])-(U1_2[0:-2,1:-1])))-(delta_t*r(U1_2[1:-1,1:-1],U2_2[1:-1,1:-1]))\\\n",
      "    +(U1_2[1:-1,1:-1])\n",
      "    \n",
      "    \n",
      "    \n",
      "    U2[1:-1,1:-1] = betha_1*((-1*v([1:-1,1:-1]))*(U2_2[1:-1,1:-1]-U2_2[1:-1,0:-2]))+(betha_2*((U2_2[1:-1,0:-2])-(2*(U2_2[1:-1,1:-1]))+(U2_2[1:-1,0:-2])))+\\\n",
      "    betha_3*((U2_2[2:,1:-1])-(2*(U2_2[1:-1,1:-1])))+(U2_2[0:-2,1:-1]))+(betha_4*((U2_2[1:-1,1:-1])-(U2_2[0:-2,1:-1])))-(betha_5*r(U1_2[1:-1,1:-1], U2_2[1:-1,1:-1]))\\\n",
      "    +(U2_2[1:-1,1:-1])\n",
      "     \n"
     ],
     "language": "python",
     "metadata": {},
     "outputs": [
      {
       "ename": "SyntaxError",
       "evalue": "invalid syntax (<ipython-input-53-aad606e55456>, line 7)",
       "output_type": "pyerr",
       "traceback": [
        "\u001b[1;36m  File \u001b[1;32m\"<ipython-input-53-aad606e55456>\"\u001b[1;36m, line \u001b[1;32m7\u001b[0m\n\u001b[1;33m    U1[1:-1,1:-1] = alpha_1*((-1*v([1:-1,1:-1]))*(U1_2[1:-1,1:-1]-U1_2[1:-1,0:-2]))+(alpha_2*((U1_2[1:-1,0:-2])-(2*(U1_2[1:-1,1:-1]))+(U1_2[1:-1,0:-2])))+    (alpha_3*((U1_2[2:,1:-1])-(2*(U1_2[1:-1,1:-1])))+(U1_2[0:-2,1:-1]))+(alpha_4*((U1[1:-1,1:-1])-(U1_2[0:-2,1:-1])))-(delta_t*r(U1_2[1:-1,1:-1],U2_2[1:-1,1:-1]))    +(U1_2[1:-1,1:-1])\u001b[0m\n\u001b[1;37m                                     ^\u001b[0m\n\u001b[1;31mSyntaxError\u001b[0m\u001b[1;31m:\u001b[0m invalid syntax\n"
       ]
      }
     ],
     "prompt_number": 53
    },
    {
     "cell_type": "code",
     "collapsed": false,
     "input": [
      "U1[:,0] #todas las filas de la columna 1"
     ],
     "language": "python",
     "metadata": {},
     "outputs": [
      {
       "metadata": {},
       "output_type": "pyout",
       "prompt_number": 88,
       "text": [
        "array([ 1.,  1.,  1.,  1.,  1.,  1.,  1.,  1.,  1.,  1.,  1.,  1.,  1.,\n",
        "        1.,  1.,  1.,  1.,  1.,  1.,  1.,  1.,  1.,  1.,  1.,  1.,  1.,\n",
        "        1.,  1.,  1.,  1.,  1.,  1.,  1.,  1.,  1.,  1.,  1.,  1.,  1.,\n",
        "        1.,  1.,  1.,  1.,  1.,  1.,  1.,  1.,  1.,  1.,  1.,  1.,  1.,\n",
        "        1.,  1.,  1.,  1.,  1.,  1.,  1.,  1.,  1.,  1.,  1.,  1.,  1.,\n",
        "        1.,  1.,  1.,  1.,  1.,  1.,  1.,  1.,  1.,  1.,  1.,  1.,  1.,\n",
        "        1.,  1.,  1.,  1.,  1.,  1.,  1.,  1.,  1.,  1.,  1.,  1.,  1.,\n",
        "        1.,  1.,  1.,  1.,  1.,  1.,  1.,  1.,  1.])"
       ]
      }
     ],
     "prompt_number": 88
    },
    {
     "cell_type": "code",
     "collapsed": false,
     "input": [
      "U1[1,:] #fila1 todas las columnas\n",
      "U1[:,1] #todas las filas de la columna 1"
     ],
     "language": "python",
     "metadata": {},
     "outputs": [
      {
       "metadata": {},
       "output_type": "pyout",
       "prompt_number": 86,
       "text": [
        "array([ 0.,  0.,  0.,  0.,  0.,  0.,  0.,  0.,  0.,  0.,  0.,  0.,  0.,\n",
        "        0.,  0.,  0.,  0.,  0.,  0.,  0.,  0.,  0.,  0.,  0.,  0.,  0.,\n",
        "        0.,  0.,  0.,  0.,  0.,  0.,  0.,  0.,  0.,  0.,  0.,  0.,  0.,\n",
        "        0.,  0.,  0.,  0.,  0.,  0.,  0.,  0.,  0.,  0.,  0.,  0.,  0.,\n",
        "        0.,  0.,  0.,  0.,  0.,  0.,  0.,  0.,  0.,  0.,  0.,  0.,  0.,\n",
        "        0.,  0.,  0.,  0.,  0.,  0.,  0.,  0.,  0.,  0.,  0.,  0.,  0.,\n",
        "        0.,  0.,  0.,  0.,  0.,  0.,  0.,  0.,  0.,  0.,  0.,  0.,  0.,\n",
        "        0.,  0.,  0.,  0.,  0.,  0.,  0.,  0.,  0.])"
       ]
      }
     ],
     "prompt_number": 86
    },
    {
     "cell_type": "code",
     "collapsed": false,
     "input": [
      "U1[1:-1,1:-1]=8\n",
      "U1"
     ],
     "language": "python",
     "metadata": {},
     "outputs": [
      {
       "metadata": {},
       "output_type": "pyout",
       "prompt_number": 38,
       "text": [
        "array([[ 1.,  8.,  8.,  8.,  8.,  8.,  8.,  8.,  8.,  1.],\n",
        "       [ 1.,  8.,  8.,  8.,  8.,  8.,  8.,  8.,  8.,  1.],\n",
        "       [ 1.,  8.,  8.,  8.,  8.,  8.,  8.,  8.,  8.,  1.],\n",
        "       [ 1.,  8.,  8.,  8.,  8.,  8.,  8.,  8.,  8.,  1.],\n",
        "       [ 1.,  8.,  8.,  8.,  8.,  8.,  8.,  8.,  8.,  1.],\n",
        "       [ 1.,  8.,  8.,  8.,  8.,  8.,  8.,  8.,  8.,  1.],\n",
        "       [ 1.,  8.,  8.,  8.,  8.,  8.,  8.,  8.,  8.,  1.],\n",
        "       [ 1.,  8.,  8.,  8.,  8.,  8.,  8.,  8.,  8.,  1.],\n",
        "       [ 1.,  8.,  8.,  8.,  8.,  8.,  8.,  8.,  8.,  1.],\n",
        "       [ 1.,  1.,  1.,  1.,  1.,  1.,  1.,  1.,  1.,  1.]])"
       ]
      }
     ],
     "prompt_number": 38
    },
    {
     "cell_type": "code",
     "collapsed": false,
     "input": [
      "\n",
      "U1[1:-1,0:-2]=9\n",
      "U1"
     ],
     "language": "python",
     "metadata": {},
     "outputs": [
      {
       "metadata": {},
       "output_type": "pyout",
       "prompt_number": 40,
       "text": [
        "array([[ 1.,  8.,  8.,  8.,  8.,  8.,  8.,  8.,  8.,  1.],\n",
        "       [ 9.,  9.,  9.,  9.,  9.,  9.,  9.,  9.,  8.,  1.],\n",
        "       [ 9.,  9.,  9.,  9.,  9.,  9.,  9.,  9.,  8.,  1.],\n",
        "       [ 9.,  9.,  9.,  9.,  9.,  9.,  9.,  9.,  8.,  1.],\n",
        "       [ 9.,  9.,  9.,  9.,  9.,  9.,  9.,  9.,  8.,  1.],\n",
        "       [ 9.,  9.,  9.,  9.,  9.,  9.,  9.,  9.,  8.,  1.],\n",
        "       [ 9.,  9.,  9.,  9.,  9.,  9.,  9.,  9.,  8.,  1.],\n",
        "       [ 9.,  9.,  9.,  9.,  9.,  9.,  9.,  9.,  8.,  1.],\n",
        "       [ 9.,  9.,  9.,  9.,  9.,  9.,  9.,  9.,  8.,  1.],\n",
        "       [ 1.,  1.,  1.,  1.,  1.,  1.,  1.,  1.,  1.,  1.]])"
       ]
      }
     ],
     "prompt_number": 40
    },
    {
     "cell_type": "code",
     "collapsed": false,
     "input": [],
     "language": "python",
     "metadata": {},
     "outputs": []
    }
   ],
   "metadata": {}
  }
 ]
}