{
 "metadata": {
  "name": ""
 },
 "nbformat": 3,
 "nbformat_minor": 0,
 "worksheets": [
  {
   "cells": [
    {
     "cell_type": "code",
     "collapsed": false,
     "input": [
      "import pylab\n",
      "from pylab import*"
     ],
     "language": "python",
     "metadata": {},
     "outputs": [],
     "prompt_number": 1
    },
    {
     "cell_type": "code",
     "collapsed": false,
     "input": [
      "#Se tienen los siguientes datos los cuales se mantendran constantes a lo largo del metodo\n",
      "p= #(ro) se refiere a la densidad\n",
      "cp= #se refiere al calor especifico\n",
      "D= #se refiere al coeficiente de dispersion \n",
      "d_H= #(delta_H) se refire al calor de reaccion\n",
      "v(r)= #se refiere a la velocidad de superficie del fluido\n",
      "K0=10 #se refiere a la constante cinetica\n",
      "R_G= #se refiere a la constante de los gases ideales\n",
      "R=1 #Se refiere al radio maximo del tubo\n",
      "L=30 #Se refiere a la longitud total del tubo. Rango de [0,L]\n",
      "E=10 #se refiere al modulo de Young\n",
      "\n",
      "#Descripcion de delta t y delta z\n",
      "timempof=1#Tiempo final, dentro del rango [0,tiempof]\n",
      "tiempop=100 #Pasos en el rango[0-pasost]\n",
      "tiempo=linspace(0,tiempof,tiempop)\n",
      "\n",
      "saltosz=10#Numero de divisiones del tubo\n",
      "z=linspace(0,L,saltosz)\n",
      "\n",
      "#Descripcion delta r\n",
      "\n",
      "\n"
     ],
     "language": "python",
     "metadata": {},
     "outputs": []
    }
   ],
   "metadata": {}
  }
 ]
}