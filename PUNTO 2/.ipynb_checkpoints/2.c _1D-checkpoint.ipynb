{
 "metadata": {
  "name": "",
  "signature": "sha256:df99bb0976d0c74faafca563952cbdb6a84266c4a171fa4cb2053ff362959c74"
 },
 "nbformat": 3,
 "nbformat_minor": 0,
 "worksheets": [
  {
   "cells": [
    {
     "cell_type": "heading",
     "level": 1,
     "metadata": {},
     "source": [
      "Soluci\u00f3n en 1D \n"
     ]
    },
    {
     "cell_type": "code",
     "collapsed": false,
     "input": [
      "from matplotlib import*\n",
      "from pylab import*\n",
      "from matplotlib import figure\n",
      "from numpy import*"
     ],
     "language": "python",
     "metadata": {},
     "outputs": [
      {
       "output_type": "stream",
       "stream": "stdout",
       "text": [
        "Populating the interactive namespace from numpy and matplotlib\n"
       ]
      }
     ],
     "prompt_number": 1
    },
    {
     "cell_type": "code",
     "collapsed": false,
     "input": [
      "#Se tienen los siguientes datos los cuales se mantendran constantes a lo largo del metodo\n",
      "p=1000  #(ro)  densidad\n",
      "cp=4181 #calor especifico agua\n",
      "D=0.1  # coeficiente de dispersion \n",
      "d_H=100 #(delta_H)  calor de reaccion\n",
      "Ra=1  #radio maximo del tubo\n",
      "ra=0.5 #Radio tubo interno\n",
      "L=10 #longitud total del tubo. Rango de [0,L]\n",
      "E=10 #modulo de Young\n",
      "C0=1 #concentracion inicial\n",
      "T0=20 #Temp inicial en Kelvin\n",
      "lam=0.5  #Lambda\n",
      "vmax=0.5 #velocidad m\u00e1xima\n",
      "Cin=0.8\n",
      "Tin=10"
     ],
     "language": "python",
     "metadata": {},
     "outputs": [],
     "prompt_number": 2
    },
    {
     "cell_type": "code",
     "collapsed": false,
     "input": [
      "# Funci\u00f3n r(c,T) \n",
      "k0 = 10 #constante cin\u00e9tica \n",
      "E = 10 \n",
      "R = 9 #consante de los gases\n",
      "c=1\n",
      "T=1 \n",
      "\n",
      "def r(c,T):\n",
      "    rcT=k0*exp(-E/(R*T))*c**2\n",
      "    return rcT\n",
      "\n",
      "#Funci\u00f3n de Velocidad superficial del fluido\n",
      "def v(ra):\n",
      "    vr=vmax*(1-(ra/Ra)**2)\n",
      "    return vr\n"
     ],
     "language": "python",
     "metadata": {},
     "outputs": [],
     "prompt_number": 3
    },
    {
     "cell_type": "code",
     "collapsed": false,
     "input": [
      "#arreglos para z , y tiempo\n",
      "n_points=100\n",
      "z = linspace(0.0,L,n_points)\n",
      "t= linspace(0.0,1.0,n_points)\n",
      "\n",
      "#Se definen los deltas\n",
      "delta_z =np.abs(z[1]-z[0])\n",
      "delta_t = 0.0005\n",
      "\n",
      "#relaci\u00f3n de alpha con delta_x y delta_t para obtener un par\u00e1metro\n",
      "sigma = 0.05\n",
      "#delta_t = sigma*delta_z/vmax\n",
      "alpha=(-vmax*(delta_t/delta_z))\n",
      "betha=(delta_t/delta_z**2)*D\n",
      "alpha2=(-vmax*(delta_t/delta_z))\n",
      "betha2=(delta_t/delta_z**2)*(lam/(p*cp))\n",
      "betha3=(d_H/(p*cp))\n",
      "\n",
      "print alpha\n",
      "print betha\n",
      "print delta_t\n",
      "print delta_z"
     ],
     "language": "python",
     "metadata": {},
     "outputs": [
      {
       "output_type": "stream",
       "stream": "stdout",
       "text": [
        "-0.002475\n",
        "0.0049005\n",
        "0.0005\n",
        "0.10101010101\n"
       ]
      }
     ],
     "prompt_number": 40
    },
    {
     "cell_type": "code",
     "collapsed": false,
     "input": [
      "#Funcion incial\n",
      "c1 = Cin*(zeros(n_points))\n",
      "t1= Tin*(ones(n_points))"
     ],
     "language": "python",
     "metadata": {},
     "outputs": [],
     "prompt_number": 41
    },
    {
     "cell_type": "code",
     "collapsed": false,
     "input": [
      "#c0 y t0 inicial=concentracion inicial y temp. inicial\n",
      "c1[:] = C0\n",
      "c1[0] = Cin\n",
      "c1[-1] = c1[-2]\n",
      "\n",
      "t1[:] = T0\n",
      "t1[0] = Tin\n",
      "t1[-1] = t1[-2]\n",
      "\n",
      "#create a new variable to hold the previous value\n",
      "c_past = c1.copy()\n",
      "t_past = t1.copy()\n",
      "\n",
      "plot(z, c_past)\n",
      "plot(z, c1)"
     ],
     "language": "python",
     "metadata": {},
     "outputs": [
      {
       "metadata": {},
       "output_type": "pyout",
       "prompt_number": 42,
       "text": [
        "[<matplotlib.lines.Line2D at 0x7f9f60a61e50>]"
       ]
      },
      {
       "metadata": {},
       "output_type": "display_data",
       "png": "[encoded data removed]",
       "text": [
        "<matplotlib.figure.Figure at 0x7f9f60ce6e50>"
       ]
      }
     ],
     "prompt_number": 42
    },
    {
     "cell_type": "code",
     "collapsed": false,
     "input": [
      "plot(z, t_past)\n",
      "plot(z, t1)"
     ],
     "language": "python",
     "metadata": {},
     "outputs": [
      {
       "metadata": {},
       "output_type": "pyout",
       "prompt_number": 43,
       "text": [
        "[<matplotlib.lines.Line2D at 0x7f9f60c84910>]"
       ]
      },
      {
       "metadata": {},
       "output_type": "display_data",
       "png": "[encoded data removed]",
       "text": [
        "<matplotlib.figure.Figure at 0x7f9f60c4d490>"
       ]
      }
     ],
     "prompt_number": 43
    },
    {
     "cell_type": "code",
     "collapsed": false,
     "input": [
      "n_tpoints=100\n",
      "for i in range(n_tpoints):  # loop over time\n",
      "    c_past = c1.copy()\n",
      "    t_past = t1.copy()\n",
      "    for i in range(1,n_points-1): #loop over space\n",
      "        c1[i] = c_past[i-1]*(alpha+betha)+c_past[i]*(1-alpha-(2*betha))+(c_past[i+1]*betha)-(delta_t*r(c_past[i],t_past[i]))\n",
      "        t1[i] = (t_past[i]*(1-alpha2-(2*betha2)))+(t_past[i-1]*(betha2-alpha2))+(t_past[i+1]*(betha2))+(betha3*(r(c_past[i],t_past[i]))) \n",
      "#print u1"
     ],
     "language": "python",
     "metadata": {},
     "outputs": [],
     "prompt_number": 44
    },
    {
     "cell_type": "code",
     "collapsed": false,
     "input": [
      "plot(z,c1)\n",
      "print c1"
     ],
     "language": "python",
     "metadata": {},
     "outputs": [
      {
       "output_type": "stream",
       "stream": "stdout",
       "text": [
        "[ 0.8         0.67834959  0.67505899  0.67543845  0.67549388  0.67549794\n",
        "  0.67549815  0.67549816  0.67549816  0.67549816  0.67549816  0.67549816\n",
        "  0.67549816  0.67549816  0.67549816  0.67549816  0.67549816  0.67549816\n",
        "  0.67549816  0.67549816  0.67549816  0.67549816  0.67549816  0.67549816\n",
        "  0.67549816  0.67549816  0.67549816  0.67549816  0.67549816  0.67549816\n",
        "  0.67549816  0.67549816  0.67549816  0.67549816  0.67549816  0.67549816\n",
        "  0.67549816  0.67549816  0.67549816  0.67549816  0.67549816  0.67549816\n",
        "  0.67549816  0.67549816  0.67549816  0.67549816  0.67549816  0.67549816\n",
        "  0.67549816  0.67549816  0.67549816  0.67549816  0.67549816  0.67549816\n",
        "  0.67549816  0.67549816  0.67549816  0.67549816  0.67549816  0.67549816\n",
        "  0.67549816  0.67549816  0.67549816  0.67549816  0.67549816  0.67549816\n",
        "  0.67549816  0.67549816  0.67549816  0.67549816  0.67549816  0.67549816\n",
        "  0.67549816  0.67549816  0.67549816  0.67549816  0.67549816  0.67549816\n",
        "  0.67549816  0.67549816  0.67549816  0.67549816  0.67549816  0.67549816\n",
        "  0.67549816  0.67549816  0.67549816  0.67549816  0.67549816  0.67549816\n",
        "  0.67549816  0.67549816  0.67549818  0.67549851  0.67550352  0.67557042\n",
        "  0.67631951  0.68316941  0.73244672  1.        ]\n"
       ]
      },
      {
       "metadata": {},
       "output_type": "display_data",
       "png": "[encoded data removed]",
       "text": [
        "<matplotlib.figure.Figure at 0x7f9f60b3ac90>"
       ]
      }
     ],
     "prompt_number": 45
    },
    {
     "cell_type": "code",
     "collapsed": false,
     "input": [
      "plot (z,t1)\n",
      "print t1"
     ],
     "language": "python",
     "metadata": {},
     "outputs": [
      {
       "output_type": "stream",
       "stream": "stdout",
       "text": [
        "[ 10.          28.4128252   32.28797991  32.73307154  32.76779053\n",
        "  32.76982616  32.76992128  32.76992496  32.76992508  32.76992508\n",
        "  32.76992508  32.76992508  32.76992508  32.76992508  32.76992508\n",
        "  32.76992508  32.76992508  32.76992508  32.76992508  32.76992508\n",
        "  32.76992508  32.76992508  32.76992508  32.76992508  32.76992508\n",
        "  32.76992508  32.76992508  32.76992508  32.76992508  32.76992508\n",
        "  32.76992508  32.76992508  32.76992508  32.76992508  32.76992508\n",
        "  32.76992508  32.76992508  32.76992508  32.76992508  32.76992508\n",
        "  32.76992508  32.76992508  32.76992508  32.76992508  32.76992508\n",
        "  32.76992508  32.76992508  32.76992508  32.76992508  32.76992508\n",
        "  32.76992508  32.76992508  32.76992508  32.76992508  32.76992508\n",
        "  32.76992508  32.76992508  32.76992508  32.76992508  32.76992508\n",
        "  32.76992508  32.76992508  32.76992508  32.76992508  32.76992508\n",
        "  32.76992508  32.76992508  32.76992508  32.76992508  32.76992508\n",
        "  32.76992508  32.76992508  32.76992508  32.76992508  32.76992508\n",
        "  32.76992508  32.76992508  32.76992508  32.76992508  32.76992508\n",
        "  32.76992508  32.76992508  32.76992508  32.76992508  32.76992508\n",
        "  32.76992508  32.76992508  32.76992508  32.76992508  32.76992508\n",
        "  32.76992508  32.76992508  32.76992508  32.76992508  32.76992508\n",
        "  32.76992508  32.76992508  32.76992508  32.7699214   20.        ]\n"
       ]
      },
      {
       "metadata": {},
       "output_type": "display_data",
       "png": "[encoded data removed]",
       "text": [
        "<matplotlib.figure.Figure at 0x7f9f60a88810>"
       ]
      }
     ],
     "prompt_number": 46
    },
    {
     "cell_type": "code",
     "collapsed": false,
     "input": [],
     "language": "python",
     "metadata": {},
     "outputs": [],
     "prompt_number": 104
    },
    {
     "cell_type": "code",
     "collapsed": false,
     "input": [],
     "language": "python",
     "metadata": {},
     "outputs": []
    }
   ],
   "metadata": {}
  }
 ]
}